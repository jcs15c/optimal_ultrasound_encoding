{
 "cells": [
  {
   "cell_type": "code",
   "execution_count": 3,
   "id": "12a23b00-c687-4ac8-9f7a-34a6e2715eee",
   "metadata": {},
   "outputs": [],
   "source": [
    "# python includes\n",
    "import torch"
   ]
  },
  {
   "cell_type": "code",
   "execution_count": 12,
   "id": "758206e3-4355-4daf-ba23-5587a24ddf78",
   "metadata": {},
   "outputs": [],
   "source": [
    "# optimal ultrasound includes\n",
    "import src.ultrasound_encoding as ue\n",
    "import src.ultrasound_beamforming as ub\n",
    "import src.ultrasound_utilities as uu\n",
    "import src.weight_constraints as wc\n",
    "\n",
    "from src.encoding_optimization import optimal_image_encoding"
   ]
  },
  {
   "cell_type": "code",
   "execution_count": 5,
   "id": "25476e82-e931-40cc-8b42-4ace6beabe44",
   "metadata": {},
   "outputs": [],
   "source": [
    "test_folder = \"results/\"\n",
    "training_set = \"data/training_data\"\n",
    "testing_set = \"data/testing_data\""
   ]
  },
  {
   "cell_type": "code",
   "execution_count": 6,
   "id": "23ccf39e-ee80-40b2-aed3-f4ebff2c437a",
   "metadata": {},
   "outputs": [],
   "source": [
    "# Get encoding sequence\n",
    "num_beams = 31\n",
    "init_delays = ue.calc_delays_planewaves(num_beams, span=60)\n",
    "init_weights = ue.calc_uniform_weights(num_beams)"
   ]
  },
  {
   "cell_type": "code",
   "execution_count": 7,
   "id": "957e8f90-b391-41fd-9a37-b4da2e9ef158",
   "metadata": {},
   "outputs": [],
   "source": [
    "# Get optimization parameters\n",
    "opt_params = \"delays\"\n",
    "loss_func = \"L2\" # or \"gCNR\"\n",
    "WeightProj = wc.L1BallProjection()\n",
    "target_type = \"unencoded\""
   ]
  },
  {
   "cell_type": "code",
   "execution_count": 8,
   "id": "b1aef12d-f512-409b-a96e-e069623660bc",
   "metadata": {},
   "outputs": [],
   "source": [
    "# Get training parameters\n",
    "training_resolution = \"half\"\n",
    "num_epochs = 5\n",
    "desc_alg = \"SGD\"\n",
    "lrate = 0.1\n",
    "training_shuffle = True"
   ]
  },
  {
   "cell_type": "code",
   "execution_count": 9,
   "id": "f3ba92c7-ce8f-47db-abaf-af83ccec3b57",
   "metadata": {},
   "outputs": [],
   "source": [
    "# image parameters\n",
    "image_dims = [300, 500]\n",
    "dB_min = -60"
   ]
  },
  {
   "cell_type": "code",
   "execution_count": 10,
   "id": "078d5e8a-0d5a-4d3a-b90d-d9b7641a3b83",
   "metadata": {},
   "outputs": [],
   "source": [
    "# Encoding paramers\n",
    "noise_param = [0.7, 12]\n",
    "tik_param = 0.1"
   ]
  },
  {
   "cell_type": "code",
   "execution_count": 13,
   "id": "803e73bb-9469-408a-b62e-4af2a076fb9f",
   "metadata": {},
   "outputs": [
    {
     "name": "stdout",
     "output_type": "stream",
     "text": [
      "results/example_results\n",
      "Getting testing data................\n",
      "-------------Training Phase-------------\n",
      "step 0 loss: 4244.998046875\n",
      "step 1 loss: 5036.744140625\n",
      "step 2 loss: 4917.64892578125\n",
      "step 3 loss: 3460.97314453125\n",
      "step 4 loss: 4248.59814453125\n",
      "step 5 loss: 5749.99560546875\n",
      "step 6 loss: 4981.02587890625\n",
      "step 7 loss: 7221.1591796875\n",
      "epoch: 0, average loss: 4982.642883300781\n",
      "step 0 loss: 4195.99267578125\n",
      "step 1 loss: 4250.60791015625\n",
      "step 2 loss: 5721.8369140625\n",
      "step 3 loss: 5709.8154296875\n",
      "step 4 loss: 4225.75830078125\n",
      "step 5 loss: 5685.09423828125\n",
      "step 6 loss: 4199.09423828125\n",
      "step 7 loss: 5689.73046875\n",
      "epoch: 1, average loss: 4959.741271972656\n",
      "step 0 loss: 6442.775390625\n",
      "step 1 loss: 4179.0146484375\n",
      "step 2 loss: 4197.48779296875\n",
      "step 3 loss: 5738.1982421875\n",
      "step 4 loss: 4210.84033203125\n",
      "step 5 loss: 4893.39990234375\n",
      "step 6 loss: 4163.8017578125\n",
      "step 7 loss: 5626.3095703125\n",
      "epoch: 2, average loss: 4931.478454589844\n",
      "step 0 loss: 4886.0498046875\n",
      "step 1 loss: 4916.95703125\n",
      "step 2 loss: 4923.79931640625\n",
      "step 3 loss: 3421.78173828125\n",
      "step 4 loss: 5610.27880859375\n",
      "step 5 loss: 4131.5927734375\n",
      "step 6 loss: 5630.6298828125\n",
      "step 7 loss: 5659.8115234375\n",
      "epoch: 3, average loss: 4897.612609863281\n",
      "step 0 loss: 2703.2646484375\n",
      "step 1 loss: 4172.427734375\n",
      "step 2 loss: 6273.3798828125\n",
      "step 3 loss: 7001.1240234375\n",
      "step 4 loss: 4070.825439453125\n",
      "step 5 loss: 4896.6669921875\n",
      "step 6 loss: 6278.234375\n",
      "step 7 loss: 3366.944091796875\n",
      "epoch: 4, average loss: 4845.3583984375\n"
     ]
    },
    {
     "data": {
      "image/png": "[encoded data removed]",
      "text/plain": [
       "<Figure size 432x288 with 2 Axes>"
      ]
     },
     "metadata": {
      "needs_background": "light"
     },
     "output_type": "display_data"
    }
   ],
   "source": [
    "optimal_image_encoding(test_folder, training_set, testing_set, # Folder names containing data and results\n",
    "                       init_delays, init_weights,  # optimization initial parameters\n",
    "                       opt_params = opt_params, loss_func=loss_func, WeightProj=WeightProj, training_resolution=training_resolution,  target_type=target_type, # optimization parameters\n",
    "                       num_epochs=num_epochs, desc_alg=desc_alg, lrate=lrate, training_shuffle = training_shuffle, # descent algorithm hyperparameters\n",
    "                       image_dims=image_dims, dB_min=dB_min,   # image parameters\n",
    "                       noise_param=noise_param, tik_param=tik_param, # Encoding parameters\n",
    "                       notes=\"Example test to see if the JupyterLab file works. \")"
   ]
  },
  {
   "cell_type": "code",
   "execution_count": null,
   "id": "52d8b275-6fa2-4aad-a22f-3c4189bd3b2b",
   "metadata": {},
   "outputs": [],
   "source": []
  }
 ],
 "metadata": {
  "kernelspec": {
   "display_name": "Python 3 (ipykernel)",
   "language": "python",
   "name": "python3"
  },
  "language_info": {
   "codemirror_mode": {
    "name": "ipython",
    "version": 3
   },
   "file_extension": ".py",
   "mimetype": "text/x-python",
   "name": "python",
   "nbconvert_exporter": "python",
   "pygments_lexer": "ipython3",
   "version": "3.9.5"
  }
 },
 "nbformat": 4,
 "nbformat_minor": 5
}
